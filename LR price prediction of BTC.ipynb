{
 "cells": [
  {
   "cell_type": "markdown",
   "metadata": {},
   "source": [
    "## Week 2 Homework: Prediction of Bitcoin with use of 4 different Logistinc Regression models and Yahoo data + 2 extra values (moving average and ret. deviation) as features/ independent variables"
   ]
  },
  {
   "cell_type": "code",
   "execution_count": 1,
   "metadata": {},
   "outputs": [],
   "source": [
    "import pandas as pd\n",
    "btc = pd.read_csv('BTCEUR.csv', encoding='utf-8')"
   ]
  },
  {
   "cell_type": "code",
   "execution_count": 2,
   "metadata": {},
   "outputs": [
    {
     "data": {
      "text/html": [
       "<div>\n",
       "<style scoped>\n",
       "    .dataframe tbody tr th:only-of-type {\n",
       "        vertical-align: middle;\n",
       "    }\n",
       "\n",
       "    .dataframe tbody tr th {\n",
       "        vertical-align: top;\n",
       "    }\n",
       "\n",
       "    .dataframe thead th {\n",
       "        text-align: right;\n",
       "    }\n",
       "</style>\n",
       "<table border=\"1\" class=\"dataframe\">\n",
       "  <thead>\n",
       "    <tr style=\"text-align: right;\">\n",
       "      <th></th>\n",
       "      <th>Date</th>\n",
       "      <th>Open</th>\n",
       "      <th>High</th>\n",
       "      <th>Low</th>\n",
       "      <th>Close</th>\n",
       "      <th>Adj Close</th>\n",
       "      <th>Volume</th>\n",
       "    </tr>\n",
       "  </thead>\n",
       "  <tbody>\n",
       "    <tr>\n",
       "      <th>0</th>\n",
       "      <td>2014-09-09</td>\n",
       "      <td>365.209991</td>\n",
       "      <td>368.239990</td>\n",
       "      <td>360.130005</td>\n",
       "      <td>366.010010</td>\n",
       "      <td>366.010010</td>\n",
       "      <td>419183</td>\n",
       "    </tr>\n",
       "    <tr>\n",
       "      <th>1</th>\n",
       "      <td>2014-09-10</td>\n",
       "      <td>366.010010</td>\n",
       "      <td>377.989990</td>\n",
       "      <td>363.350006</td>\n",
       "      <td>368.350006</td>\n",
       "      <td>368.350006</td>\n",
       "      <td>533768</td>\n",
       "    </tr>\n",
       "    <tr>\n",
       "      <th>2</th>\n",
       "      <td>2014-09-11</td>\n",
       "      <td>368.350006</td>\n",
       "      <td>372.260010</td>\n",
       "      <td>364.640015</td>\n",
       "      <td>369.290009</td>\n",
       "      <td>369.290009</td>\n",
       "      <td>283011</td>\n",
       "    </tr>\n",
       "    <tr>\n",
       "      <th>3</th>\n",
       "      <td>2014-09-12</td>\n",
       "      <td>369.290009</td>\n",
       "      <td>369.450012</td>\n",
       "      <td>362.529999</td>\n",
       "      <td>367.489990</td>\n",
       "      <td>367.489990</td>\n",
       "      <td>230262</td>\n",
       "    </tr>\n",
       "    <tr>\n",
       "      <th>4</th>\n",
       "      <td>2014-09-13</td>\n",
       "      <td>367.489990</td>\n",
       "      <td>369.230011</td>\n",
       "      <td>363.100006</td>\n",
       "      <td>365.850006</td>\n",
       "      <td>365.850006</td>\n",
       "      <td>167439</td>\n",
       "    </tr>\n",
       "    <tr>\n",
       "      <th>5</th>\n",
       "      <td>2014-09-14</td>\n",
       "      <td>365.850006</td>\n",
       "      <td>370.019989</td>\n",
       "      <td>363.559998</td>\n",
       "      <td>364.670013</td>\n",
       "      <td>364.670013</td>\n",
       "      <td>184888</td>\n",
       "    </tr>\n",
       "    <tr>\n",
       "      <th>6</th>\n",
       "      <td>2014-09-15</td>\n",
       "      <td>364.670013</td>\n",
       "      <td>369.720001</td>\n",
       "      <td>361.109985</td>\n",
       "      <td>363.429993</td>\n",
       "      <td>363.429993</td>\n",
       "      <td>376934</td>\n",
       "    </tr>\n",
       "    <tr>\n",
       "      <th>7</th>\n",
       "      <td>2014-09-16</td>\n",
       "      <td>363.429993</td>\n",
       "      <td>368.049988</td>\n",
       "      <td>357.579987</td>\n",
       "      <td>359.559998</td>\n",
       "      <td>359.559998</td>\n",
       "      <td>364121</td>\n",
       "    </tr>\n",
       "    <tr>\n",
       "      <th>8</th>\n",
       "      <td>2014-09-17</td>\n",
       "      <td>359.559998</td>\n",
       "      <td>361.350006</td>\n",
       "      <td>346.480011</td>\n",
       "      <td>353.980011</td>\n",
       "      <td>353.980011</td>\n",
       "      <td>476343</td>\n",
       "    </tr>\n",
       "    <tr>\n",
       "      <th>9</th>\n",
       "      <td>2014-09-18</td>\n",
       "      <td>353.980011</td>\n",
       "      <td>353.420013</td>\n",
       "      <td>319.200012</td>\n",
       "      <td>331.250000</td>\n",
       "      <td>331.250000</td>\n",
       "      <td>973288</td>\n",
       "    </tr>\n",
       "  </tbody>\n",
       "</table>\n",
       "</div>"
      ],
      "text/plain": [
       "         Date        Open        High         Low       Close   Adj Close  \\\n",
       "0  2014-09-09  365.209991  368.239990  360.130005  366.010010  366.010010   \n",
       "1  2014-09-10  366.010010  377.989990  363.350006  368.350006  368.350006   \n",
       "2  2014-09-11  368.350006  372.260010  364.640015  369.290009  369.290009   \n",
       "3  2014-09-12  369.290009  369.450012  362.529999  367.489990  367.489990   \n",
       "4  2014-09-13  367.489990  369.230011  363.100006  365.850006  365.850006   \n",
       "5  2014-09-14  365.850006  370.019989  363.559998  364.670013  364.670013   \n",
       "6  2014-09-15  364.670013  369.720001  361.109985  363.429993  363.429993   \n",
       "7  2014-09-16  363.429993  368.049988  357.579987  359.559998  359.559998   \n",
       "8  2014-09-17  359.559998  361.350006  346.480011  353.980011  353.980011   \n",
       "9  2014-09-18  353.980011  353.420013  319.200012  331.250000  331.250000   \n",
       "\n",
       "   Volume  \n",
       "0  419183  \n",
       "1  533768  \n",
       "2  283011  \n",
       "3  230262  \n",
       "4  167439  \n",
       "5  184888  \n",
       "6  376934  \n",
       "7  364121  \n",
       "8  476343  \n",
       "9  973288  "
      ]
     },
     "execution_count": 2,
     "metadata": {},
     "output_type": "execute_result"
    }
   ],
   "source": [
    "btc.head(10)"
   ]
  },
  {
   "cell_type": "code",
   "execution_count": 3,
   "metadata": {},
   "outputs": [],
   "source": [
    "btc['MA'] = btc['Adj Close'].rolling(window=100).mean()"
   ]
  },
  {
   "cell_type": "code",
   "execution_count": 4,
   "metadata": {},
   "outputs": [],
   "source": [
    "btc['ret_dev'] = btc['Adj Close']/ btc['Adj Close'].shift(1) - 1"
   ]
  },
  {
   "cell_type": "code",
   "execution_count": 5,
   "metadata": {},
   "outputs": [],
   "source": [
    "# Convert Date column to datetime\n",
    "btc.loc[:, 'Date'] = pd.to_datetime(btc['Date'],format='%Y-%m-%d')"
   ]
  },
  {
   "cell_type": "code",
   "execution_count": 6,
   "metadata": {},
   "outputs": [],
   "source": [
    "# Change all column headings to be lower case, and remove spacing\n",
    "btc.columns = [str(x).lower().replace(' ', '_') for x in btc.columns]\n"
   ]
  },
  {
   "cell_type": "code",
   "execution_count": 7,
   "metadata": {},
   "outputs": [],
   "source": [
    "# Get month of each sample\n",
    "btc['month'] = btc['date'].dt.month"
   ]
  },
  {
   "cell_type": "code",
   "execution_count": 8,
   "metadata": {},
   "outputs": [],
   "source": [
    "# Sort by datetime\n",
    "btc.sort_values(by='date', inplace=True, ascending=True)"
   ]
  },
  {
   "cell_type": "code",
   "execution_count": 54,
   "metadata": {},
   "outputs": [],
   "source": [
    "%matplotlib inline\n",
    "import matplotlib as mpl\n",
    "import matplotlib.pyplot as plt\n",
    "from matplotlib import style"
   ]
  },
  {
   "cell_type": "code",
   "execution_count": 10,
   "metadata": {},
   "outputs": [
    {
     "data": {
      "text/html": [
       "<div>\n",
       "<style scoped>\n",
       "    .dataframe tbody tr th:only-of-type {\n",
       "        vertical-align: middle;\n",
       "    }\n",
       "\n",
       "    .dataframe tbody tr th {\n",
       "        vertical-align: top;\n",
       "    }\n",
       "\n",
       "    .dataframe thead th {\n",
       "        text-align: right;\n",
       "    }\n",
       "</style>\n",
       "<table border=\"1\" class=\"dataframe\">\n",
       "  <thead>\n",
       "    <tr style=\"text-align: right;\">\n",
       "      <th></th>\n",
       "      <th>date</th>\n",
       "      <th>open</th>\n",
       "      <th>high</th>\n",
       "      <th>low</th>\n",
       "      <th>close</th>\n",
       "      <th>adj_close</th>\n",
       "      <th>volume</th>\n",
       "      <th>ma</th>\n",
       "      <th>ret_dev</th>\n",
       "      <th>month</th>\n",
       "    </tr>\n",
       "  </thead>\n",
       "  <tbody>\n",
       "    <tr>\n",
       "      <th>0</th>\n",
       "      <td>2014-09-09</td>\n",
       "      <td>365.209991</td>\n",
       "      <td>368.239990</td>\n",
       "      <td>360.130005</td>\n",
       "      <td>366.010010</td>\n",
       "      <td>366.010010</td>\n",
       "      <td>419183</td>\n",
       "      <td>NaN</td>\n",
       "      <td>NaN</td>\n",
       "      <td>9</td>\n",
       "    </tr>\n",
       "    <tr>\n",
       "      <th>1</th>\n",
       "      <td>2014-09-10</td>\n",
       "      <td>366.010010</td>\n",
       "      <td>377.989990</td>\n",
       "      <td>363.350006</td>\n",
       "      <td>368.350006</td>\n",
       "      <td>368.350006</td>\n",
       "      <td>533768</td>\n",
       "      <td>NaN</td>\n",
       "      <td>0.006393</td>\n",
       "      <td>9</td>\n",
       "    </tr>\n",
       "    <tr>\n",
       "      <th>2</th>\n",
       "      <td>2014-09-11</td>\n",
       "      <td>368.350006</td>\n",
       "      <td>372.260010</td>\n",
       "      <td>364.640015</td>\n",
       "      <td>369.290009</td>\n",
       "      <td>369.290009</td>\n",
       "      <td>283011</td>\n",
       "      <td>NaN</td>\n",
       "      <td>0.002552</td>\n",
       "      <td>9</td>\n",
       "    </tr>\n",
       "    <tr>\n",
       "      <th>3</th>\n",
       "      <td>2014-09-12</td>\n",
       "      <td>369.290009</td>\n",
       "      <td>369.450012</td>\n",
       "      <td>362.529999</td>\n",
       "      <td>367.489990</td>\n",
       "      <td>367.489990</td>\n",
       "      <td>230262</td>\n",
       "      <td>NaN</td>\n",
       "      <td>-0.004874</td>\n",
       "      <td>9</td>\n",
       "    </tr>\n",
       "    <tr>\n",
       "      <th>4</th>\n",
       "      <td>2014-09-13</td>\n",
       "      <td>367.489990</td>\n",
       "      <td>369.230011</td>\n",
       "      <td>363.100006</td>\n",
       "      <td>365.850006</td>\n",
       "      <td>365.850006</td>\n",
       "      <td>167439</td>\n",
       "      <td>NaN</td>\n",
       "      <td>-0.004463</td>\n",
       "      <td>9</td>\n",
       "    </tr>\n",
       "  </tbody>\n",
       "</table>\n",
       "</div>"
      ],
      "text/plain": [
       "        date        open        high         low       close   adj_close  \\\n",
       "0 2014-09-09  365.209991  368.239990  360.130005  366.010010  366.010010   \n",
       "1 2014-09-10  366.010010  377.989990  363.350006  368.350006  368.350006   \n",
       "2 2014-09-11  368.350006  372.260010  364.640015  369.290009  369.290009   \n",
       "3 2014-09-12  369.290009  369.450012  362.529999  367.489990  367.489990   \n",
       "4 2014-09-13  367.489990  369.230011  363.100006  365.850006  365.850006   \n",
       "\n",
       "   volume  ma   ret_dev  month  \n",
       "0  419183 NaN       NaN      9  \n",
       "1  533768 NaN  0.006393      9  \n",
       "2  283011 NaN  0.002552      9  \n",
       "3  230262 NaN -0.004874      9  \n",
       "4  167439 NaN -0.004463      9  "
      ]
     },
     "execution_count": 10,
     "metadata": {},
     "output_type": "execute_result"
    }
   ],
   "source": [
    "btc.head(5)"
   ]
  },
  {
   "cell_type": "code",
   "execution_count": 11,
   "metadata": {},
   "outputs": [],
   "source": [
    "df1 = btc.pop('adj_close')"
   ]
  },
  {
   "cell_type": "code",
   "execution_count": 12,
   "metadata": {},
   "outputs": [],
   "source": [
    "btc['price']=df1"
   ]
  },
  {
   "cell_type": "code",
   "execution_count": 13,
   "metadata": {},
   "outputs": [],
   "source": [
    "btc = btc.dropna()"
   ]
  },
  {
   "cell_type": "code",
   "execution_count": 14,
   "metadata": {},
   "outputs": [
    {
     "data": {
      "text/plain": [
       "<matplotlib.legend.Legend at 0x117722a20>"
      ]
     },
     "execution_count": 14,
     "metadata": {},
     "output_type": "execute_result"
    },
    {
     "data": {
      "image/png": "[encoded data removed]",
      "text/plain": [
       "<Figure size 864x504 with 1 Axes>"
      ]
     },
     "metadata": {},
     "output_type": "display_data"
    }
   ],
   "source": [
    "style.use('ggplot')\n",
    "mpl.rc('figure', figsize=(12,7))\n",
    "mpl.__version__\n",
    "\n",
    "btc.price.plot(label='Price')\n",
    "btc.ma.plot(label='MA')\n",
    "plt.legend()"
   ]
  },
  {
   "cell_type": "code",
   "execution_count": 15,
   "metadata": {},
   "outputs": [
    {
     "data": {
      "text/plain": [
       "(1728, 10)"
      ]
     },
     "execution_count": 15,
     "metadata": {},
     "output_type": "execute_result"
    }
   ],
   "source": [
    "btc.shape"
   ]
  },
  {
   "cell_type": "code",
   "execution_count": 16,
   "metadata": {},
   "outputs": [],
   "source": [
    "rows = btc.shape[0]"
   ]
  },
  {
   "cell_type": "code",
   "execution_count": 17,
   "metadata": {},
   "outputs": [
    {
     "data": {
      "text/plain": [
       "1728"
      ]
     },
     "execution_count": 17,
     "metadata": {},
     "output_type": "execute_result"
    }
   ],
   "source": [
    "rows"
   ]
  },
  {
   "cell_type": "code",
   "execution_count": 18,
   "metadata": {},
   "outputs": [],
   "source": [
    "features = btc.shape[1]"
   ]
  },
  {
   "cell_type": "code",
   "execution_count": 19,
   "metadata": {},
   "outputs": [],
   "source": [
    "btc.set_index(\"date\", inplace=True)\n"
   ]
  },
  {
   "cell_type": "code",
   "execution_count": 27,
   "metadata": {},
   "outputs": [],
   "source": [
    "import numpy as np"
   ]
  },
  {
   "cell_type": "code",
   "execution_count": 28,
   "metadata": {},
   "outputs": [
    {
     "data": {
      "text/plain": [
       "10"
      ]
     },
     "execution_count": 28,
     "metadata": {},
     "output_type": "execute_result"
    }
   ],
   "source": [
    "features"
   ]
  },
  {
   "cell_type": "code",
   "execution_count": 41,
   "metadata": {},
   "outputs": [],
   "source": [
    "from sklearn.linear_model import LinearRegression, Ridge, Lasso, ElasticNet, BayesianRidge, LassoLars\n",
    "from sklearn.ensemble import GradientBoostingRegressor\n",
    "from sklearn import metrics"
   ]
  },
  {
   "cell_type": "code",
   "execution_count": 55,
   "metadata": {},
   "outputs": [],
   "source": [
    "def model_performance (model_pred):\n",
    "  print('Mean Absolute Error:', metrics.mean_absolute_error(y_test, model_pred).round(3))  \n",
    "  print('Mean Squared Error:', metrics.mean_squared_error(y_test, model_pred).round(3))  \n",
    "  print('Root Mean Squared Error:', np.sqrt(metrics.mean_squared_error(y_test, model_pred)).round(3))\n",
    "  \n"
   ]
  },
  {
   "cell_type": "code",
   "execution_count": 61,
   "metadata": {},
   "outputs": [],
   "source": [
    "def model_plot (model_pred):\n",
    "  plt.scatter(model_pred, y_test, color=\"gray\")\n",
    "  plt.plot(y_test, y_test, color='red', linewidth=2)\n"
   ]
  },
  {
   "cell_type": "code",
   "execution_count": 62,
   "metadata": {},
   "outputs": [],
   "source": [
    "window_size=32\n",
    "num_samples=len(btc)-window_size\n",
    "\n",
    "# Get indices of access for the data\n",
    "indices=np.arange(num_samples).astype(np.int)[:,None]+np.arange(window_size+1).astype(np.int)\n",
    "\n",
    "\n",
    "data = btc['price'].values[indices] # Create the 2D matrix of training samples\n",
    "x = data[:,:-1] # Each row represents 32 days in the past\n",
    "y = data[:,-1] # Each output value represents the 33rd day"
   ]
  },
  {
   "cell_type": "code",
   "execution_count": 63,
   "metadata": {},
   "outputs": [],
   "source": [
    "from sklearn.model_selection import train_test_split\n",
    "split_ratio=0.75\n",
    "data_split=int(split_ratio*num_samples)"
   ]
  },
  {
   "cell_type": "code",
   "execution_count": 64,
   "metadata": {},
   "outputs": [],
   "source": [
    "x_train = x[:data_split]\n",
    "y_train = y[:data_split]\n",
    "x_test = x[data_split:]\n",
    "y_test = y[data_split:]"
   ]
  },
  {
   "cell_type": "code",
   "execution_count": 65,
   "metadata": {},
   "outputs": [],
   "source": [
    "lr=LinearRegression()\n",
    "\n",
    "lr.fit(x_train, y_train)\n",
    "\n",
    "y_pred_lr=lr.predict(x_test)"
   ]
  },
  {
   "cell_type": "code",
   "execution_count": 66,
   "metadata": {},
   "outputs": [
    {
     "name": "stdout",
     "output_type": "stream",
     "text": [
      "Mean Absolute Error: 177.12\n",
      "Mean Squared Error: 78361.122\n",
      "Root Mean Squared Error: 279.931\n"
     ]
    }
   ],
   "source": [
    "model_performance(y_pred_lr)"
   ]
  },
  {
   "cell_type": "code",
   "execution_count": 67,
   "metadata": {},
   "outputs": [
    {
     "data": {
      "image/png": "[encoded data removed]",
      "text/plain": [
       "<Figure size 432x288 with 1 Axes>"
      ]
     },
     "metadata": {
      "needs_background": "light"
     },
     "output_type": "display_data"
    }
   ],
   "source": [
    "model_plot(y_pred_lr)"
   ]
  },
  {
   "cell_type": "code",
   "execution_count": 69,
   "metadata": {},
   "outputs": [],
   "source": [
    "reg_ridge = Ridge()\n",
    "reg_ridge.fit(x_train, y_train)\n",
    "y_pred_ridge=reg_ridge.predict(x_test)"
   ]
  },
  {
   "cell_type": "code",
   "execution_count": 70,
   "metadata": {},
   "outputs": [
    {
     "name": "stdout",
     "output_type": "stream",
     "text": [
      "Mean Absolute Error: 177.12\n",
      "Mean Squared Error: 78361.122\n",
      "Root Mean Squared Error: 279.931\n"
     ]
    }
   ],
   "source": [
    "model_performance(y_pred_ridge)"
   ]
  },
  {
   "cell_type": "code",
   "execution_count": 71,
   "metadata": {},
   "outputs": [
    {
     "data": {
      "image/png": "[encoded data removed]",
      "text/plain": [
       "<Figure size 432x288 with 1 Axes>"
      ]
     },
     "metadata": {
      "needs_background": "light"
     },
     "output_type": "display_data"
    }
   ],
   "source": [
    "model_plot(y_pred_ridge)"
   ]
  },
  {
   "cell_type": "code",
   "execution_count": 72,
   "metadata": {},
   "outputs": [
    {
     "name": "stderr",
     "output_type": "stream",
     "text": [
      "/anaconda3/lib/python3.6/site-packages/sklearn/linear_model/coordinate_descent.py:492: ConvergenceWarning: Objective did not converge. You might want to increase the number of iterations. Fitting data with very small alpha may cause precision problems.\n",
      "  ConvergenceWarning)\n"
     ]
    }
   ],
   "source": [
    "reg_lasso = Lasso()\n",
    "reg_lasso.fit(x_train, y_train)\n",
    "y_pred_lasso=reg_lasso.predict(x_test)"
   ]
  },
  {
   "cell_type": "code",
   "execution_count": 73,
   "metadata": {},
   "outputs": [
    {
     "name": "stdout",
     "output_type": "stream",
     "text": [
      "Mean Absolute Error: 176.894\n",
      "Mean Squared Error: 79662.507\n",
      "Root Mean Squared Error: 282.245\n"
     ]
    }
   ],
   "source": [
    "model_performance(y_pred_lasso)"
   ]
  },
  {
   "cell_type": "code",
   "execution_count": 74,
   "metadata": {},
   "outputs": [
    {
     "data": {
      "image/png": "[encoded data removed]",
      "text/plain": [
       "<Figure size 432x288 with 1 Axes>"
      ]
     },
     "metadata": {
      "needs_background": "light"
     },
     "output_type": "display_data"
    }
   ],
   "source": [
    "model_plot(y_pred_ridge)"
   ]
  },
  {
   "cell_type": "code",
   "execution_count": 75,
   "metadata": {},
   "outputs": [
    {
     "name": "stderr",
     "output_type": "stream",
     "text": [
      "/anaconda3/lib/python3.6/site-packages/sklearn/linear_model/coordinate_descent.py:492: ConvergenceWarning: Objective did not converge. You might want to increase the number of iterations. Fitting data with very small alpha may cause precision problems.\n",
      "  ConvergenceWarning)\n"
     ]
    }
   ],
   "source": [
    "reg_elastic = ElasticNet()\n",
    "reg_elastic.fit(x_train, y_train)\n",
    "y_pred_elastic=reg_elastic.predict(x_test)"
   ]
  },
  {
   "cell_type": "code",
   "execution_count": 76,
   "metadata": {},
   "outputs": [
    {
     "name": "stdout",
     "output_type": "stream",
     "text": [
      "Mean Absolute Error: 176.896\n",
      "Mean Squared Error: 79663.223\n",
      "Root Mean Squared Error: 282.247\n"
     ]
    }
   ],
   "source": [
    "model_performance(y_pred_elastic)"
   ]
  },
  {
   "cell_type": "code",
   "execution_count": 77,
   "metadata": {},
   "outputs": [
    {
     "data": {
      "image/png": "[encoded data removed]",
      "text/plain": [
       "<Figure size 432x288 with 1 Axes>"
      ]
     },
     "metadata": {
      "needs_background": "light"
     },
     "output_type": "display_data"
    }
   ],
   "source": [
    "model_plot(y_pred_elastic)"
   ]
  },
  {
   "cell_type": "code",
   "execution_count": 78,
   "metadata": {},
   "outputs": [],
   "source": [
    "reg_bey = BayesianRidge()\n",
    "reg_bey.fit(x_train, y_train)\n",
    "y_pred_bey=reg_bey.predict(x_test)"
   ]
  },
  {
   "cell_type": "code",
   "execution_count": 79,
   "metadata": {},
   "outputs": [
    {
     "name": "stdout",
     "output_type": "stream",
     "text": [
      "Mean Absolute Error: 176.246\n",
      "Mean Squared Error: 77932.493\n",
      "Root Mean Squared Error: 279.164\n"
     ]
    }
   ],
   "source": [
    "model_performance(y_pred_bey)"
   ]
  },
  {
   "cell_type": "code",
   "execution_count": 80,
   "metadata": {},
   "outputs": [
    {
     "data": {
      "image/png": "[encoded data removed]",
      "text/plain": [
       "<Figure size 432x288 with 1 Axes>"
      ]
     },
     "metadata": {
      "needs_background": "light"
     },
     "output_type": "display_data"
    }
   ],
   "source": [
    "model_plot(y_pred_bey)"
   ]
  },
  {
   "cell_type": "code",
   "execution_count": 81,
   "metadata": {},
   "outputs": [],
   "source": [
    "reg_lars = LassoLars()\n",
    "reg_lars.fit(x_train, y_train)\n",
    "y_pred_lars=reg_lars.predict(x_test)"
   ]
  },
  {
   "cell_type": "code",
   "execution_count": 82,
   "metadata": {},
   "outputs": [
    {
     "name": "stdout",
     "output_type": "stream",
     "text": [
      "Mean Absolute Error: 162.09\n",
      "Mean Squared Error: 68176.377\n",
      "Root Mean Squared Error: 261.106\n"
     ]
    }
   ],
   "source": [
    "model_performance(y_pred_lars)"
   ]
  },
  {
   "cell_type": "code",
   "execution_count": 83,
   "metadata": {},
   "outputs": [
    {
     "data": {
      "image/png": "[encoded data removed]",
      "text/plain": [
       "<Figure size 432x288 with 1 Axes>"
      ]
     },
     "metadata": {
      "needs_background": "light"
     },
     "output_type": "display_data"
    }
   ],
   "source": [
    "model_plot(y_pred_lars)"
   ]
  },
  {
   "cell_type": "code",
   "execution_count": 84,
   "metadata": {},
   "outputs": [],
   "source": [
    "pred_results=pd.DataFrame({\"lasso\":np.absolute(y_test-y_pred_lasso), \n",
    "              \"lr\":np.absolute(y_test-y_pred_lr), \n",
    "              \"ridge\":np.absolute(y_test-y_pred_ridge),\n",
    "              \"lars\":np.absolute(y_test-y_pred_lars)})\n"
   ]
  },
  {
   "cell_type": "code",
   "execution_count": 90,
   "metadata": {},
   "outputs": [
    {
     "data": {
      "text/html": [
       "<div>\n",
       "<style scoped>\n",
       "    .dataframe tbody tr th:only-of-type {\n",
       "        vertical-align: middle;\n",
       "    }\n",
       "\n",
       "    .dataframe tbody tr th {\n",
       "        vertical-align: top;\n",
       "    }\n",
       "\n",
       "    .dataframe thead th {\n",
       "        text-align: right;\n",
       "    }\n",
       "</style>\n",
       "<table border=\"1\" class=\"dataframe\">\n",
       "  <thead>\n",
       "    <tr style=\"text-align: right;\">\n",
       "      <th></th>\n",
       "      <th>lasso</th>\n",
       "      <th>lr</th>\n",
       "      <th>ridge</th>\n",
       "      <th>lars</th>\n",
       "    </tr>\n",
       "  </thead>\n",
       "  <tbody>\n",
       "    <tr>\n",
       "      <th>count</th>\n",
       "      <td>424.000000</td>\n",
       "      <td>424.000000</td>\n",
       "      <td>424.000000</td>\n",
       "      <td>424.000000</td>\n",
       "    </tr>\n",
       "    <tr>\n",
       "      <th>mean</th>\n",
       "      <td>176.894380</td>\n",
       "      <td>177.119640</td>\n",
       "      <td>177.119639</td>\n",
       "      <td>162.089889</td>\n",
       "    </tr>\n",
       "    <tr>\n",
       "      <th>std</th>\n",
       "      <td>220.193635</td>\n",
       "      <td>217.027285</td>\n",
       "      <td>217.027285</td>\n",
       "      <td>204.944644</td>\n",
       "    </tr>\n",
       "    <tr>\n",
       "      <th>min</th>\n",
       "      <td>0.255021</td>\n",
       "      <td>0.388063</td>\n",
       "      <td>0.388063</td>\n",
       "      <td>0.181857</td>\n",
       "    </tr>\n",
       "    <tr>\n",
       "      <th>25%</th>\n",
       "      <td>35.216794</td>\n",
       "      <td>36.432357</td>\n",
       "      <td>36.432357</td>\n",
       "      <td>33.137669</td>\n",
       "    </tr>\n",
       "    <tr>\n",
       "      <th>50%</th>\n",
       "      <td>95.687262</td>\n",
       "      <td>96.678012</td>\n",
       "      <td>96.678009</td>\n",
       "      <td>87.774425</td>\n",
       "    </tr>\n",
       "    <tr>\n",
       "      <th>75%</th>\n",
       "      <td>226.909430</td>\n",
       "      <td>233.607329</td>\n",
       "      <td>233.607336</td>\n",
       "      <td>207.618258</td>\n",
       "    </tr>\n",
       "    <tr>\n",
       "      <th>max</th>\n",
       "      <td>1444.304026</td>\n",
       "      <td>1461.769505</td>\n",
       "      <td>1461.769490</td>\n",
       "      <td>1313.427698</td>\n",
       "    </tr>\n",
       "  </tbody>\n",
       "</table>\n",
       "</div>"
      ],
      "text/plain": [
       "             lasso           lr        ridge         lars\n",
       "count   424.000000   424.000000   424.000000   424.000000\n",
       "mean    176.894380   177.119640   177.119639   162.089889\n",
       "std     220.193635   217.027285   217.027285   204.944644\n",
       "min       0.255021     0.388063     0.388063     0.181857\n",
       "25%      35.216794    36.432357    36.432357    33.137669\n",
       "50%      95.687262    96.678012    96.678009    87.774425\n",
       "75%     226.909430   233.607329   233.607336   207.618258\n",
       "max    1444.304026  1461.769505  1461.769490  1313.427698"
      ]
     },
     "execution_count": 90,
     "metadata": {},
     "output_type": "execute_result"
    }
   ],
   "source": [
    "pred_results.describe()"
   ]
  },
  {
   "cell_type": "code",
   "execution_count": 85,
   "metadata": {},
   "outputs": [
    {
     "data": {
      "text/html": [
       "<div>\n",
       "<style scoped>\n",
       "    .dataframe tbody tr th:only-of-type {\n",
       "        vertical-align: middle;\n",
       "    }\n",
       "\n",
       "    .dataframe tbody tr th {\n",
       "        vertical-align: top;\n",
       "    }\n",
       "\n",
       "    .dataframe thead th {\n",
       "        text-align: right;\n",
       "    }\n",
       "</style>\n",
       "<table border=\"1\" class=\"dataframe\">\n",
       "  <thead>\n",
       "    <tr style=\"text-align: right;\">\n",
       "      <th></th>\n",
       "      <th>lasso</th>\n",
       "      <th>lr</th>\n",
       "      <th>ridge</th>\n",
       "      <th>lars</th>\n",
       "    </tr>\n",
       "  </thead>\n",
       "  <tbody>\n",
       "    <tr>\n",
       "      <th>0</th>\n",
       "      <td>8.509874</td>\n",
       "      <td>51.543106</td>\n",
       "      <td>51.543101</td>\n",
       "      <td>13.958031</td>\n",
       "    </tr>\n",
       "    <tr>\n",
       "      <th>1</th>\n",
       "      <td>50.489550</td>\n",
       "      <td>45.867737</td>\n",
       "      <td>45.867742</td>\n",
       "      <td>67.298828</td>\n",
       "    </tr>\n",
       "    <tr>\n",
       "      <th>2</th>\n",
       "      <td>173.583931</td>\n",
       "      <td>177.034093</td>\n",
       "      <td>177.034091</td>\n",
       "      <td>120.728963</td>\n",
       "    </tr>\n",
       "    <tr>\n",
       "      <th>3</th>\n",
       "      <td>326.307778</td>\n",
       "      <td>317.162443</td>\n",
       "      <td>317.162447</td>\n",
       "      <td>341.961070</td>\n",
       "    </tr>\n",
       "    <tr>\n",
       "      <th>4</th>\n",
       "      <td>544.212159</td>\n",
       "      <td>531.839233</td>\n",
       "      <td>531.839241</td>\n",
       "      <td>564.280344</td>\n",
       "    </tr>\n",
       "  </tbody>\n",
       "</table>\n",
       "</div>"
      ],
      "text/plain": [
       "        lasso          lr       ridge        lars\n",
       "0    8.509874   51.543106   51.543101   13.958031\n",
       "1   50.489550   45.867737   45.867742   67.298828\n",
       "2  173.583931  177.034093  177.034091  120.728963\n",
       "3  326.307778  317.162443  317.162447  341.961070\n",
       "4  544.212159  531.839233  531.839241  564.280344"
      ]
     },
     "execution_count": 85,
     "metadata": {},
     "output_type": "execute_result"
    }
   ],
   "source": [
    "pred_results.head(5)"
   ]
  },
  {
   "cell_type": "code",
   "execution_count": 86,
   "metadata": {},
   "outputs": [],
   "source": [
    "result_stats = pred_results.describe()"
   ]
  },
  {
   "cell_type": "code",
   "execution_count": 87,
   "metadata": {},
   "outputs": [
    {
     "data": {
      "text/html": [
       "<div>\n",
       "<style scoped>\n",
       "    .dataframe tbody tr th:only-of-type {\n",
       "        vertical-align: middle;\n",
       "    }\n",
       "\n",
       "    .dataframe tbody tr th {\n",
       "        vertical-align: top;\n",
       "    }\n",
       "\n",
       "    .dataframe thead th {\n",
       "        text-align: right;\n",
       "    }\n",
       "</style>\n",
       "<table border=\"1\" class=\"dataframe\">\n",
       "  <thead>\n",
       "    <tr style=\"text-align: right;\">\n",
       "      <th></th>\n",
       "      <th>lasso</th>\n",
       "      <th>lr</th>\n",
       "      <th>ridge</th>\n",
       "      <th>lars</th>\n",
       "    </tr>\n",
       "  </thead>\n",
       "  <tbody>\n",
       "    <tr>\n",
       "      <th>count</th>\n",
       "      <td>424.000000</td>\n",
       "      <td>424.000000</td>\n",
       "      <td>424.000000</td>\n",
       "      <td>424.000000</td>\n",
       "    </tr>\n",
       "    <tr>\n",
       "      <th>mean</th>\n",
       "      <td>176.894380</td>\n",
       "      <td>177.119640</td>\n",
       "      <td>177.119639</td>\n",
       "      <td>162.089889</td>\n",
       "    </tr>\n",
       "    <tr>\n",
       "      <th>std</th>\n",
       "      <td>220.193635</td>\n",
       "      <td>217.027285</td>\n",
       "      <td>217.027285</td>\n",
       "      <td>204.944644</td>\n",
       "    </tr>\n",
       "    <tr>\n",
       "      <th>min</th>\n",
       "      <td>0.255021</td>\n",
       "      <td>0.388063</td>\n",
       "      <td>0.388063</td>\n",
       "      <td>0.181857</td>\n",
       "    </tr>\n",
       "    <tr>\n",
       "      <th>25%</th>\n",
       "      <td>35.216794</td>\n",
       "      <td>36.432357</td>\n",
       "      <td>36.432357</td>\n",
       "      <td>33.137669</td>\n",
       "    </tr>\n",
       "    <tr>\n",
       "      <th>50%</th>\n",
       "      <td>95.687262</td>\n",
       "      <td>96.678012</td>\n",
       "      <td>96.678009</td>\n",
       "      <td>87.774425</td>\n",
       "    </tr>\n",
       "    <tr>\n",
       "      <th>75%</th>\n",
       "      <td>226.909430</td>\n",
       "      <td>233.607329</td>\n",
       "      <td>233.607336</td>\n",
       "      <td>207.618258</td>\n",
       "    </tr>\n",
       "    <tr>\n",
       "      <th>max</th>\n",
       "      <td>1444.304026</td>\n",
       "      <td>1461.769505</td>\n",
       "      <td>1461.769490</td>\n",
       "      <td>1313.427698</td>\n",
       "    </tr>\n",
       "  </tbody>\n",
       "</table>\n",
       "</div>"
      ],
      "text/plain": [
       "             lasso           lr        ridge         lars\n",
       "count   424.000000   424.000000   424.000000   424.000000\n",
       "mean    176.894380   177.119640   177.119639   162.089889\n",
       "std     220.193635   217.027285   217.027285   204.944644\n",
       "min       0.255021     0.388063     0.388063     0.181857\n",
       "25%      35.216794    36.432357    36.432357    33.137669\n",
       "50%      95.687262    96.678012    96.678009    87.774425\n",
       "75%     226.909430   233.607329   233.607336   207.618258\n",
       "max    1444.304026  1461.769505  1461.769490  1313.427698"
      ]
     },
     "execution_count": 87,
     "metadata": {},
     "output_type": "execute_result"
    }
   ],
   "source": [
    "result_stats"
   ]
  },
  {
   "cell_type": "code",
   "execution_count": 88,
   "metadata": {},
   "outputs": [
    {
     "data": {
      "text/plain": [
       "<matplotlib.axes._subplots.AxesSubplot at 0x1a1c7674a8>"
      ]
     },
     "execution_count": 88,
     "metadata": {},
     "output_type": "execute_result"
    },
    {
     "data": {
      "image/png": "[encoded data removed]",
      "text/plain": [
       "<Figure size 1152x432 with 1 Axes>"
      ]
     },
     "metadata": {
      "needs_background": "light"
     },
     "output_type": "display_data"
    }
   ],
   "source": [
    "result_stats.plot.bar(figsize=(16, 6))"
   ]
  },
  {
   "cell_type": "markdown",
   "metadata": {},
   "source": [
    "### The lower the result the better.  The results of linear regressin are roughtly the same. its bet to focus on mean score therfore LassoLars / Lars Regression socred best /lowest at predicting the price of Bitcoin"
   ]
  },
  {
   "cell_type": "code",
   "execution_count": null,
   "metadata": {},
   "outputs": [],
   "source": []
  }
 ],
 "metadata": {
  "kernelspec": {
   "display_name": "Python 3",
   "language": "python",
   "name": "python3"
  },
  "language_info": {
   "codemirror_mode": {
    "name": "ipython",
    "version": 3
   },
   "file_extension": ".py",
   "mimetype": "text/x-python",
   "name": "python",
   "nbconvert_exporter": "python",
   "pygments_lexer": "ipython3",
   "version": "3.6.8"
  }
 },
 "nbformat": 4,
 "nbformat_minor": 2
}
